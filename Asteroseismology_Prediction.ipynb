{
 "cells": [
  {
   "cell_type": "code",
   "execution_count": 1,
   "id": "9800fedf",
   "metadata": {},
   "outputs": [],
   "source": [
    "# Procesado y tratamiento de los datos\n",
    "import numpy as np\n",
    "import pandas as pd\n",
    "from sklearn import set_config\n",
    "from sklearn.pipeline import Pipeline\n",
    "from sklearn.compose import ColumnTransformer\n",
    "from sklearn.compose import make_column_selector\n",
    "from sklearn.preprocessing import RobustScaler, PowerTransformer\n",
    "\n",
    "# Gráficas\n",
    "import matplotlib.pyplot as plt\n",
    "import seaborn as sns\n",
    "\n",
    "# Balanceo del dataset\n",
    "from imblearn.combine import SMOTEENN\n",
    "\n",
    "# División del dataset\n",
    "from sklearn.model_selection import train_test_split\n",
    "\n",
    "# Búsqueda de los mejores parámetros\n",
    "from sklearn.model_selection import GridSearchCV\n",
    "\n",
    "# Modelos utilizados \n",
    "from sklearn.linear_model import LogisticRegression\n",
    "from sklearn.neighbors import KNeighborsClassifier\n",
    "from sklearn.naive_bayes import GaussianNB\n",
    "from sklearn.naive_bayes import BernoulliNB\n",
    "from sklearn.svm import SVC\n",
    "from sklearn.tree import DecisionTreeClassifier\n",
    "from sklearn.ensemble import RandomForestClassifier\n",
    "from sklearn.ensemble import AdaBoostClassifier\n",
    "\n",
    "# Métricas de evaluación\n",
    "from sklearn.model_selection import KFold\n",
    "from sklearn.model_selection import cross_val_score\n",
    "from sklearn.metrics import RocCurveDisplay\n",
    "from sklearn.metrics import accuracy_score\n",
    "from sklearn.metrics import PrecisionRecallDisplay\n",
    "from sklearn.metrics import plot_confusion_matrix\n",
    "from sklearn.metrics import classification_report\n",
    "\n",
    "# Otros\n",
    "import warnings \n",
    "warnings.filterwarnings('ignore')"
   ]
  },
  {
   "cell_type": "code",
   "execution_count": 2,
   "id": "3fffcc9c",
   "metadata": {},
   "outputs": [
    {
     "data": {
      "text/html": [
       "<div>\n",
       "<style scoped>\n",
       "    .dataframe tbody tr th:only-of-type {\n",
       "        vertical-align: middle;\n",
       "    }\n",
       "\n",
       "    .dataframe tbody tr th {\n",
       "        vertical-align: top;\n",
       "    }\n",
       "\n",
       "    .dataframe thead th {\n",
       "        text-align: right;\n",
       "    }\n",
       "</style>\n",
       "<table border=\"1\" class=\"dataframe\">\n",
       "  <thead>\n",
       "    <tr style=\"text-align: right;\">\n",
       "      <th></th>\n",
       "      <th>POP</th>\n",
       "      <th>Dnu</th>\n",
       "      <th>numax</th>\n",
       "      <th>epsilon</th>\n",
       "    </tr>\n",
       "  </thead>\n",
       "  <tbody>\n",
       "    <tr>\n",
       "      <th>0</th>\n",
       "      <td>1</td>\n",
       "      <td>4.44780</td>\n",
       "      <td>43.06289</td>\n",
       "      <td>0.985</td>\n",
       "    </tr>\n",
       "    <tr>\n",
       "      <th>1</th>\n",
       "      <td>0</td>\n",
       "      <td>6.94399</td>\n",
       "      <td>74.07646</td>\n",
       "      <td>0.150</td>\n",
       "    </tr>\n",
       "    <tr>\n",
       "      <th>2</th>\n",
       "      <td>1</td>\n",
       "      <td>2.64571</td>\n",
       "      <td>21.57891</td>\n",
       "      <td>0.855</td>\n",
       "    </tr>\n",
       "    <tr>\n",
       "      <th>3</th>\n",
       "      <td>1</td>\n",
       "      <td>4.24168</td>\n",
       "      <td>32.13189</td>\n",
       "      <td>0.840</td>\n",
       "    </tr>\n",
       "    <tr>\n",
       "      <th>4</th>\n",
       "      <td>0</td>\n",
       "      <td>10.44719</td>\n",
       "      <td>120.37356</td>\n",
       "      <td>0.275</td>\n",
       "    </tr>\n",
       "    <tr>\n",
       "      <th>...</th>\n",
       "      <td>...</td>\n",
       "      <td>...</td>\n",
       "      <td>...</td>\n",
       "      <td>...</td>\n",
       "    </tr>\n",
       "    <tr>\n",
       "      <th>996</th>\n",
       "      <td>0</td>\n",
       "      <td>5.51582</td>\n",
       "      <td>49.99920</td>\n",
       "      <td>0.060</td>\n",
       "    </tr>\n",
       "    <tr>\n",
       "      <th>997</th>\n",
       "      <td>1</td>\n",
       "      <td>4.14823</td>\n",
       "      <td>32.09069</td>\n",
       "      <td>0.930</td>\n",
       "    </tr>\n",
       "    <tr>\n",
       "      <th>998</th>\n",
       "      <td>1</td>\n",
       "      <td>3.98294</td>\n",
       "      <td>30.90257</td>\n",
       "      <td>0.880</td>\n",
       "    </tr>\n",
       "    <tr>\n",
       "      <th>999</th>\n",
       "      <td>1</td>\n",
       "      <td>4.33893</td>\n",
       "      <td>45.62183</td>\n",
       "      <td>0.975</td>\n",
       "    </tr>\n",
       "    <tr>\n",
       "      <th>1000</th>\n",
       "      <td>1</td>\n",
       "      <td>3.74869</td>\n",
       "      <td>37.94907</td>\n",
       "      <td>0.205</td>\n",
       "    </tr>\n",
       "  </tbody>\n",
       "</table>\n",
       "<p>1001 rows × 4 columns</p>\n",
       "</div>"
      ],
      "text/plain": [
       "      POP       Dnu      numax  epsilon\n",
       "0       1   4.44780   43.06289    0.985\n",
       "1       0   6.94399   74.07646    0.150\n",
       "2       1   2.64571   21.57891    0.855\n",
       "3       1   4.24168   32.13189    0.840\n",
       "4       0  10.44719  120.37356    0.275\n",
       "...   ...       ...        ...      ...\n",
       "996     0   5.51582   49.99920    0.060\n",
       "997     1   4.14823   32.09069    0.930\n",
       "998     1   3.98294   30.90257    0.880\n",
       "999     1   4.33893   45.62183    0.975\n",
       "1000    1   3.74869   37.94907    0.205\n",
       "\n",
       "[1001 rows x 4 columns]"
      ]
     },
     "execution_count": 2,
     "metadata": {},
     "output_type": "execute_result"
    }
   ],
   "source": [
    "# Lectura del dataset \n",
    "df = pd.read_csv('classification_in_asteroseismology.csv')\n",
    "# Visualización inicial del conjunto de datos\n",
    "df"
   ]
  },
  {
   "attachments": {},
   "cell_type": "markdown",
   "id": "cfbca308",
   "metadata": {},
   "source": [
    "## Análisis exploratorio de los datos"
   ]
  },
  {
   "cell_type": "code",
   "execution_count": 3,
   "id": "a6307a1d",
   "metadata": {},
   "outputs": [
    {
     "name": "stdout",
     "output_type": "stream",
     "text": [
      "<class 'pandas.core.frame.DataFrame'>\n",
      "RangeIndex: 1001 entries, 0 to 1000\n",
      "Data columns (total 4 columns):\n",
      " #   Column   Non-Null Count  Dtype  \n",
      "---  ------   --------------  -----  \n",
      " 0   POP      1001 non-null   int64  \n",
      " 1   Dnu      1001 non-null   float64\n",
      " 2   numax    1001 non-null   float64\n",
      " 3   epsilon  1001 non-null   float64\n",
      "dtypes: float64(3), int64(1)\n",
      "memory usage: 31.4 KB\n"
     ]
    }
   ],
   "source": [
    "# Visualizamos la información básica del conjunto de datos\n",
    "# Indica el número de filas del dataset\n",
    "# Muestra el número de datos no nulos por columna (valores validos)\n",
    "# Tipo de dato de cada columna\n",
    "# Tamaño total del dataset\n",
    "df.info()"
   ]
  },
  {
   "cell_type": "code",
   "execution_count": 4,
   "id": "5f8f6833",
   "metadata": {},
   "outputs": [
    {
     "data": {
      "text/plain": [
       "(1001, 4)"
      ]
     },
     "execution_count": 4,
     "metadata": {},
     "output_type": "execute_result"
    }
   ],
   "source": [
    "# Dimensiones del dataset\n",
    "# Muestra la cantidad de datos y el número de columnas que posee el dataset\n",
    "df.shape"
   ]
  },
  {
   "cell_type": "code",
   "execution_count": 5,
   "id": "ee960ddc",
   "metadata": {},
   "outputs": [
    {
     "data": {
      "text/plain": [
       "0"
      ]
     },
     "execution_count": 5,
     "metadata": {},
     "output_type": "execute_result"
    }
   ],
   "source": [
    "# Validación de datos duplicados\n",
    "df.duplicated().sum()"
   ]
  },
  {
   "cell_type": "code",
   "execution_count": 6,
   "id": "1314c325",
   "metadata": {},
   "outputs": [
    {
     "name": "stdout",
     "output_type": "stream",
     "text": [
      "POP        0\n",
      "Dnu        0\n",
      "numax      0\n",
      "epsilon    0\n",
      "dtype: int64\n"
     ]
    }
   ],
   "source": [
    "# Número de datos ausentes por variable\n",
    "print(df.isnull().sum())"
   ]
  },
  {
   "cell_type": "code",
   "execution_count": 7,
   "id": "31ccb434",
   "metadata": {},
   "outputs": [
    {
     "data": {
      "text/html": [
       "<div>\n",
       "<style scoped>\n",
       "    .dataframe tbody tr th:only-of-type {\n",
       "        vertical-align: middle;\n",
       "    }\n",
       "\n",
       "    .dataframe tbody tr th {\n",
       "        vertical-align: top;\n",
       "    }\n",
       "\n",
       "    .dataframe thead th {\n",
       "        text-align: right;\n",
       "    }\n",
       "</style>\n",
       "<table border=\"1\" class=\"dataframe\">\n",
       "  <thead>\n",
       "    <tr style=\"text-align: right;\">\n",
       "      <th></th>\n",
       "      <th>POP</th>\n",
       "      <th>Dnu</th>\n",
       "      <th>numax</th>\n",
       "      <th>epsilon</th>\n",
       "    </tr>\n",
       "  </thead>\n",
       "  <tbody>\n",
       "    <tr>\n",
       "      <th>count</th>\n",
       "      <td>1001.000000</td>\n",
       "      <td>1001.000000</td>\n",
       "      <td>1001.000000</td>\n",
       "      <td>1001.000000</td>\n",
       "    </tr>\n",
       "    <tr>\n",
       "      <th>mean</th>\n",
       "      <td>0.712288</td>\n",
       "      <td>5.774810</td>\n",
       "      <td>58.441771</td>\n",
       "      <td>0.610774</td>\n",
       "    </tr>\n",
       "    <tr>\n",
       "      <th>std</th>\n",
       "      <td>0.452923</td>\n",
       "      <td>2.998103</td>\n",
       "      <td>43.425561</td>\n",
       "      <td>0.342518</td>\n",
       "    </tr>\n",
       "    <tr>\n",
       "      <th>min</th>\n",
       "      <td>0.000000</td>\n",
       "      <td>2.500080</td>\n",
       "      <td>17.979780</td>\n",
       "      <td>0.005000</td>\n",
       "    </tr>\n",
       "    <tr>\n",
       "      <th>25%</th>\n",
       "      <td>0.000000</td>\n",
       "      <td>4.073160</td>\n",
       "      <td>32.924350</td>\n",
       "      <td>0.220000</td>\n",
       "    </tr>\n",
       "    <tr>\n",
       "      <th>50%</th>\n",
       "      <td>1.000000</td>\n",
       "      <td>4.308740</td>\n",
       "      <td>38.293160</td>\n",
       "      <td>0.815000</td>\n",
       "    </tr>\n",
       "    <tr>\n",
       "      <th>75%</th>\n",
       "      <td>1.000000</td>\n",
       "      <td>6.580340</td>\n",
       "      <td>70.140830</td>\n",
       "      <td>0.890000</td>\n",
       "    </tr>\n",
       "    <tr>\n",
       "      <th>max</th>\n",
       "      <td>1.000000</td>\n",
       "      <td>17.699430</td>\n",
       "      <td>239.648480</td>\n",
       "      <td>1.000000</td>\n",
       "    </tr>\n",
       "  </tbody>\n",
       "</table>\n",
       "</div>"
      ],
      "text/plain": [
       "               POP          Dnu        numax      epsilon\n",
       "count  1001.000000  1001.000000  1001.000000  1001.000000\n",
       "mean      0.712288     5.774810    58.441771     0.610774\n",
       "std       0.452923     2.998103    43.425561     0.342518\n",
       "min       0.000000     2.500080    17.979780     0.005000\n",
       "25%       0.000000     4.073160    32.924350     0.220000\n",
       "50%       1.000000     4.308740    38.293160     0.815000\n",
       "75%       1.000000     6.580340    70.140830     0.890000\n",
       "max       1.000000    17.699430   239.648480     1.000000"
      ]
     },
     "execution_count": 7,
     "metadata": {},
     "output_type": "execute_result"
    }
   ],
   "source": [
    "# Visualización de la información estadística del conjunto de datos\n",
    "df.describe()"
   ]
  },
  {
   "cell_type": "markdown",
   "id": "fe8b46a7",
   "metadata": {},
   "source": [
    "##### Gráficas de Distribución de los Datos"
   ]
  },
  {
   "cell_type": "code",
   "execution_count": 8,
   "id": "764e0cc1",
   "metadata": {},
   "outputs": [
    {
     "data": {
      "image/png": "[encoded data removed]",
      "text/plain": [
       "<Figure size 1080x360 with 3 Axes>"
      ]
     },
     "metadata": {
      "needs_background": "light"
     },
     "output_type": "display_data"
    }
   ],
   "source": [
    "# Gráficas de distribución para cada variable numérica continua\n",
    "# Ajustar número de subplots en función del número de columnas\n",
    "fig2, axes = plt.subplots(nrows=1, ncols=3, figsize=(15, 5))\n",
    "axes = axes.flat\n",
    "# Seleccionamos el tipo de variable a gráficar\n",
    "columnas_numeric = df.select_dtypes(include=['float64', 'int']).columns\n",
    "# Se elimina la variable de salida\n",
    "columnas_numeric = columnas_numeric.drop('POP')\n",
    "# Recorremos cada columna seleccionada \n",
    "for i, colum in enumerate(columnas_numeric):\n",
    "    # Gráficamos cada columna \n",
    "    sns.histplot(\n",
    "        data    = df,\n",
    "        x       = colum,\n",
    "        stat    = \"count\",\n",
    "        kde     = True,\n",
    "        color   = (list(plt.rcParams['axes.prop_cycle'])*2)[i][\"color\"],\n",
    "        line_kws= {'linewidth': 2},\n",
    "        alpha   = 0.3,\n",
    "        ax      = axes[i]\n",
    "    )\n",
    "    axes[i].set_title(colum, fontsize = 15, fontweight = \"bold\")\n",
    "    axes[i].tick_params(labelsize = 10)\n",
    "    axes[i].set_xlabel(\"\")\n",
    "    \n",
    "fig2.tight_layout()\n",
    "plt.subplots_adjust(top = 0.8)\n",
    "fig2.suptitle('Distribución variables numéricas', fontsize = 15, fontweight = \"bold\");"
   ]
  },
  {
   "cell_type": "markdown",
   "id": "f0a725b4",
   "metadata": {},
   "source": [
    "La gráficas de distribución de las variables refleja lo siguiente:\n",
    "- Para la variable \"Dnu\" podemos observar sesgo hacia la derecha, los datos poseen asimetría positiva con un pico no tan pronunciado en la mayor concentración de datos.\n",
    "- Para la variable \"numax\" también podemos observar sesgo hacía la derecha, los datos poseen asimetría positiva y en este caso el pico de concentración de datos si es un poco mas pronunciado en comparación a la primera variable.\n",
    "- Para la variable \"epsilon\" podemos observar una distribución totalmente diferente en comparación de las otras 2 variables, los datos reflejan una distribución bimodal, con una estructura un poco más homogénea de los datos.\n",
    "\n",
    "Además que las variables paracen no seguir una distribución normal."
   ]
  },
  {
   "cell_type": "markdown",
   "id": "526f0ac5",
   "metadata": {},
   "source": [
    "##### Gráficas de Densidad\n",
    "Para ver un poco más clara la distribución de los datos observemos las siguientes gráficas de densidad:"
   ]
  },
  {
   "cell_type": "code",
   "execution_count": 9,
   "id": "39fce12e",
   "metadata": {},
   "outputs": [
    {
     "data": {
      "image/png": "[encoded data removed]",
      "text/plain": [
       "<Figure size 864x576 with 4 Axes>"
      ]
     },
     "metadata": {
      "needs_background": "light"
     },
     "output_type": "display_data"
    }
   ],
   "source": [
    "# Gráficas de densidad para cada variable \n",
    "fig = plt.figure (figsize = (12,8))\n",
    "ax = fig.gca()\n",
    "den=pd.DataFrame(df)\n",
    "den.plot(ax =ax, kind='density', subplots = True, layout =(2,2), sharex = False)\n",
    "plt.show()"
   ]
  },
  {
   "cell_type": "markdown",
   "id": "03c67699",
   "metadata": {},
   "source": [
    "Como lo reflejaron las gráficas de distribución de datos en las varibles: \"Dnu\", \"numax\" podemos ver picos bastantes pronunciados en sus respectivos rangos de concentracion de datos, además que se observan ciertos valores que generan una leve asimetría negativa, generando un poco de sesgo a la izquierda, sin embargo este es mucho menor en comparacióna a la asimetría positiva que presentan ambas variables, por lo que podemos deducir que se podrian tratar de valores atípico presentes en los datos y con mayor presencia en registros con valores altos y una menor cantidad para valores bajos en ambas variables. Para poder verificar lo indicado anteriormete más adelante estaremos haciendo una inspección para la búsqueda de valores atípicos.\n",
    "\n",
    "En variable \"epsilon\" podemos ver las mismas observaciones que en la gráfica anterior, presenta una distribución bimodal, con una curva un poco más grande y pronunciada en la segunda concetración de datos y una curva mas pequeña y menos produnciada en la primera concetración de datos, sin embargo con una distribución bastante homogénea en ambos casos, sus picos a los lados son menos alargados, no se observan sesgos significativos en ambos lados, por lo que es muy posible que los valores atípicos sean muy pocos o no los hayan."
   ]
  },
  {
   "cell_type": "markdown",
   "id": "e21cc7d7",
   "metadata": {},
   "source": [
    "#### Mapa de calor de correlaciones"
   ]
  },
  {
   "cell_type": "code",
   "execution_count": 10,
   "id": "8198ec63",
   "metadata": {},
   "outputs": [
    {
     "data": {
      "image/png": "[encoded data removed]",
      "text/plain": [
       "<Figure size 720x360 with 2 Axes>"
      ]
     },
     "metadata": {
      "needs_background": "light"
     },
     "output_type": "display_data"
    }
   ],
   "source": [
    "# Validación de correlaciones\n",
    "correlation = df.corr(method='spearman')\n",
    "fig1 = plt.figure(figsize=(10,5))\n",
    "ax = fig1.add_subplot(111)\n",
    "sns.heatmap(correlation, cmap=\"YlGnBu\", annot=True)\n",
    "plt.show()"
   ]
  },
  {
   "cell_type": "markdown",
   "id": "f570381c",
   "metadata": {},
   "source": [
    "#### Búsqueda y Análisis de Outliers"
   ]
  },
  {
   "cell_type": "code",
   "execution_count": 11,
   "id": "ebca719a",
   "metadata": {},
   "outputs": [
    {
     "data": {
      "text/plain": [
       "<Figure size 432x288 with 0 Axes>"
      ]
     },
     "metadata": {},
     "output_type": "display_data"
    },
    {
     "data": {
      "image/png": "[encoded data removed]",
      "text/plain": [
       "<Figure size 864x1728 with 3 Axes>"
      ]
     },
     "metadata": {
      "needs_background": "light"
     },
     "output_type": "display_data"
    }
   ],
   "source": [
    "# Boxplot por cada variable\n",
    "den=pd.DataFrame(df)\n",
    "plt.figure (4)\n",
    "plt.subplots(figsize=(12,24))\n",
    "green_diamond = dict(markerfacecolor='y', marker='D')\n",
    "sns.set_palette(\"Set2\")\n",
    "\n",
    "plt.subplot(421)\n",
    "sns.boxplot(x='POP', y='Dnu', data=den, flierprops=green_diamond)\n",
    "\n",
    "plt.subplot(422)\n",
    "sns.boxplot(x='POP', y='numax', data=den, flierprops=green_diamond)\n",
    "\n",
    "plt.subplot(423)\n",
    "sns.boxplot(x='POP', y='epsilon', data=den, flierprops=green_diamond)\n",
    "\n",
    "plt.show() "
   ]
  },
  {
   "cell_type": "markdown",
   "id": "09a0e383",
   "metadata": {},
   "source": [
    "La primera búsqueda de posibles outliers en nuestros datos a traves de gráficas de caja, reflejan la presencia de algunos datos que podrían considerarse atípicos, ya que quedan fuera del limite inferior o superior de los datos, además de podemos ver que en las tres variables los rangos intecuartílicos no se sobreponen, lo que indica una clara separación para ambas clases.\n",
    "\n",
    "Para poder verificar mas claramente si hay o no valores atipicos en nuestros datos vamos hacer uso del método de Tukey o bloxplot el cual consiste en definir los límites inferior y superior a partir del rango intercuartílico (IQR) el primer cuartil (Q1) y el tercer cuartil (Q3). A continuación definiremos la función que se encargara del cálculo de límite inferior y superiro de cada variable."
   ]
  },
  {
   "cell_type": "code",
   "execution_count": 12,
   "id": "5c1c3ff0",
   "metadata": {},
   "outputs": [],
   "source": [
    "# Función que calcula los valores del límite inferior y superior en las variables numericas\n",
    "# Para poder identificar y analizar los posibles outliers que las varibles puedan contener\n",
    "def calcula_limites(data,ft):\n",
    "    # Cálculamos los valores de los cuartiles\n",
    "    Q1 = data[ft].quantile(0.25)\n",
    "    Q3 = data[ft].quantile(0.75)\n",
    "    # Cálculamos el rango intercuartílico \n",
    "    IQR = Q3 - Q1\n",
    "    # Cálculamos los valores de los bigotes inferior y superior\n",
    "    lower_bound = Q1 - (1.5 * IQR)\n",
    "    upper_bound = Q3 + (1.5 * IQR)\n",
    "    # Impimimos los valores cálculados\n",
    "    print(f\"El límite inferior es {lower_bound} y el límite superior {upper_bound}\")\n",
    "    # Retornamos los valores del límite inferior y superior\n",
    "    return lower_bound, upper_bound"
   ]
  },
  {
   "cell_type": "code",
   "execution_count": 13,
   "id": "ff4686e1",
   "metadata": {},
   "outputs": [
    {
     "name": "stdout",
     "output_type": "stream",
     "text": [
      "El límite inferior es 0.3123899999999997 y el límite superior 10.34111\n"
     ]
    }
   ],
   "source": [
    "# Ejecutamos la función para definir el limite inferior y superior en la variable \"Dnu\"\n",
    "lower_bound, upper_bound = calcula_limites(df,'Dnu')"
   ]
  },
  {
   "cell_type": "code",
   "execution_count": 14,
   "id": "8f57ab8d",
   "metadata": {},
   "outputs": [
    {
     "data": {
      "text/html": [
       "<div>\n",
       "<style scoped>\n",
       "    .dataframe tbody tr th:only-of-type {\n",
       "        vertical-align: middle;\n",
       "    }\n",
       "\n",
       "    .dataframe tbody tr th {\n",
       "        vertical-align: top;\n",
       "    }\n",
       "\n",
       "    .dataframe thead th {\n",
       "        text-align: right;\n",
       "    }\n",
       "</style>\n",
       "<table border=\"1\" class=\"dataframe\">\n",
       "  <thead>\n",
       "    <tr style=\"text-align: right;\">\n",
       "      <th></th>\n",
       "      <th>POP</th>\n",
       "      <th>Dnu</th>\n",
       "      <th>numax</th>\n",
       "      <th>epsilon</th>\n",
       "    </tr>\n",
       "  </thead>\n",
       "  <tbody>\n",
       "    <tr>\n",
       "      <th>4</th>\n",
       "      <td>0</td>\n",
       "      <td>10.44719</td>\n",
       "      <td>120.37356</td>\n",
       "      <td>0.275</td>\n",
       "    </tr>\n",
       "    <tr>\n",
       "      <th>37</th>\n",
       "      <td>0</td>\n",
       "      <td>11.28055</td>\n",
       "      <td>129.58759</td>\n",
       "      <td>0.320</td>\n",
       "    </tr>\n",
       "    <tr>\n",
       "      <th>58</th>\n",
       "      <td>0</td>\n",
       "      <td>10.36221</td>\n",
       "      <td>123.53948</td>\n",
       "      <td>0.250</td>\n",
       "    </tr>\n",
       "    <tr>\n",
       "      <th>61</th>\n",
       "      <td>0</td>\n",
       "      <td>10.62177</td>\n",
       "      <td>136.73959</td>\n",
       "      <td>0.240</td>\n",
       "    </tr>\n",
       "    <tr>\n",
       "      <th>63</th>\n",
       "      <td>0</td>\n",
       "      <td>12.58911</td>\n",
       "      <td>152.48999</td>\n",
       "      <td>0.345</td>\n",
       "    </tr>\n",
       "    <tr>\n",
       "      <th>...</th>\n",
       "      <td>...</td>\n",
       "      <td>...</td>\n",
       "      <td>...</td>\n",
       "      <td>...</td>\n",
       "    </tr>\n",
       "    <tr>\n",
       "      <th>829</th>\n",
       "      <td>0</td>\n",
       "      <td>17.41007</td>\n",
       "      <td>230.53819</td>\n",
       "      <td>0.410</td>\n",
       "    </tr>\n",
       "    <tr>\n",
       "      <th>846</th>\n",
       "      <td>0</td>\n",
       "      <td>15.40096</td>\n",
       "      <td>209.34905</td>\n",
       "      <td>0.380</td>\n",
       "    </tr>\n",
       "    <tr>\n",
       "      <th>863</th>\n",
       "      <td>0</td>\n",
       "      <td>16.54784</td>\n",
       "      <td>220.99048</td>\n",
       "      <td>0.385</td>\n",
       "    </tr>\n",
       "    <tr>\n",
       "      <th>931</th>\n",
       "      <td>0</td>\n",
       "      <td>16.50862</td>\n",
       "      <td>210.76879</td>\n",
       "      <td>0.360</td>\n",
       "    </tr>\n",
       "    <tr>\n",
       "      <th>972</th>\n",
       "      <td>0</td>\n",
       "      <td>15.05203</td>\n",
       "      <td>198.85169</td>\n",
       "      <td>0.365</td>\n",
       "    </tr>\n",
       "  </tbody>\n",
       "</table>\n",
       "<p>86 rows × 4 columns</p>\n",
       "</div>"
      ],
      "text/plain": [
       "     POP       Dnu      numax  epsilon\n",
       "4      0  10.44719  120.37356    0.275\n",
       "37     0  11.28055  129.58759    0.320\n",
       "58     0  10.36221  123.53948    0.250\n",
       "61     0  10.62177  136.73959    0.240\n",
       "63     0  12.58911  152.48999    0.345\n",
       "..   ...       ...        ...      ...\n",
       "829    0  17.41007  230.53819    0.410\n",
       "846    0  15.40096  209.34905    0.380\n",
       "863    0  16.54784  220.99048    0.385\n",
       "931    0  16.50862  210.76879    0.360\n",
       "972    0  15.05203  198.85169    0.365\n",
       "\n",
       "[86 rows x 4 columns]"
      ]
     },
     "execution_count": 14,
     "metadata": {},
     "output_type": "execute_result"
    }
   ],
   "source": [
    "# Buscamos y separamos los valores que sean menores al límite inferior y mayores que el limite superior\n",
    "# Para validar los posibles outliers que se vizualizan en la gráfica de caja anteriror\n",
    "Outliers_Dnu = df.query('(Dnu > @upper_bound) | (Dnu < @lower_bound)')\n",
    "# Visualización de los valores encontrados\n",
    "Outliers_Dnu"
   ]
  },
  {
   "cell_type": "code",
   "execution_count": 15,
   "id": "63bbb434",
   "metadata": {},
   "outputs": [
    {
     "data": {
      "text/html": [
       "<div>\n",
       "<style scoped>\n",
       "    .dataframe tbody tr th:only-of-type {\n",
       "        vertical-align: middle;\n",
       "    }\n",
       "\n",
       "    .dataframe tbody tr th {\n",
       "        vertical-align: top;\n",
       "    }\n",
       "\n",
       "    .dataframe thead th {\n",
       "        text-align: right;\n",
       "    }\n",
       "</style>\n",
       "<table border=\"1\" class=\"dataframe\">\n",
       "  <thead>\n",
       "    <tr style=\"text-align: right;\">\n",
       "      <th></th>\n",
       "      <th>POP</th>\n",
       "      <th>Dnu</th>\n",
       "      <th>numax</th>\n",
       "      <th>epsilon</th>\n",
       "    </tr>\n",
       "  </thead>\n",
       "  <tbody>\n",
       "    <tr>\n",
       "      <th>count</th>\n",
       "      <td>86.000000</td>\n",
       "      <td>86.000000</td>\n",
       "      <td>86.000000</td>\n",
       "      <td>86.000000</td>\n",
       "    </tr>\n",
       "    <tr>\n",
       "      <th>mean</th>\n",
       "      <td>0.023256</td>\n",
       "      <td>13.851620</td>\n",
       "      <td>175.891426</td>\n",
       "      <td>0.330233</td>\n",
       "    </tr>\n",
       "    <tr>\n",
       "      <th>std</th>\n",
       "      <td>0.151599</td>\n",
       "      <td>2.341019</td>\n",
       "      <td>37.881733</td>\n",
       "      <td>0.061591</td>\n",
       "    </tr>\n",
       "    <tr>\n",
       "      <th>min</th>\n",
       "      <td>0.000000</td>\n",
       "      <td>10.362210</td>\n",
       "      <td>117.105320</td>\n",
       "      <td>0.165000</td>\n",
       "    </tr>\n",
       "    <tr>\n",
       "      <th>25%</th>\n",
       "      <td>0.000000</td>\n",
       "      <td>11.802795</td>\n",
       "      <td>141.179775</td>\n",
       "      <td>0.285000</td>\n",
       "    </tr>\n",
       "    <tr>\n",
       "      <th>50%</th>\n",
       "      <td>0.000000</td>\n",
       "      <td>13.682160</td>\n",
       "      <td>168.036915</td>\n",
       "      <td>0.330000</td>\n",
       "    </tr>\n",
       "    <tr>\n",
       "      <th>75%</th>\n",
       "      <td>0.000000</td>\n",
       "      <td>16.219195</td>\n",
       "      <td>213.399497</td>\n",
       "      <td>0.380000</td>\n",
       "    </tr>\n",
       "    <tr>\n",
       "      <th>max</th>\n",
       "      <td>1.000000</td>\n",
       "      <td>17.699430</td>\n",
       "      <td>239.648480</td>\n",
       "      <td>0.475000</td>\n",
       "    </tr>\n",
       "  </tbody>\n",
       "</table>\n",
       "</div>"
      ],
      "text/plain": [
       "             POP        Dnu       numax    epsilon\n",
       "count  86.000000  86.000000   86.000000  86.000000\n",
       "mean    0.023256  13.851620  175.891426   0.330233\n",
       "std     0.151599   2.341019   37.881733   0.061591\n",
       "min     0.000000  10.362210  117.105320   0.165000\n",
       "25%     0.000000  11.802795  141.179775   0.285000\n",
       "50%     0.000000  13.682160  168.036915   0.330000\n",
       "75%     0.000000  16.219195  213.399497   0.380000\n",
       "max     1.000000  17.699430  239.648480   0.475000"
      ]
     },
     "execution_count": 15,
     "metadata": {},
     "output_type": "execute_result"
    }
   ],
   "source": [
    "# Visualización de la información estadística del conjunto de datos\n",
    "Outliers_Dnu.describe()"
   ]
  },
  {
   "cell_type": "code",
   "execution_count": 16,
   "id": "c967cdfe",
   "metadata": {},
   "outputs": [],
   "source": [
    "# Reemplazamos los valores que se encuntre fuera de los rangos\n",
    "# por el límite superior o inferior según sea el caso \n",
    "df.loc[df['Dnu'] > upper_bound, 'Dnu'] = upper_bound\n",
    "df.loc[df['Dnu'] < lower_bound, 'Dnu'] = lower_bound"
   ]
  },
  {
   "cell_type": "code",
   "execution_count": 17,
   "id": "1cedc70a",
   "metadata": {},
   "outputs": [
    {
     "name": "stdout",
     "output_type": "stream",
     "text": [
      "El límite inferior es -22.900370000000002 y el límite superior 125.96555\n"
     ]
    }
   ],
   "source": [
    "# Ejecutamos la función para definir el limite inferior y superior en la variable \"numax\"\n",
    "lower_bound, upper_bound = calcula_limites(df,'numax')"
   ]
  },
  {
   "cell_type": "code",
   "execution_count": 18,
   "id": "d9e61144",
   "metadata": {},
   "outputs": [
    {
     "data": {
      "text/html": [
       "<div>\n",
       "<style scoped>\n",
       "    .dataframe tbody tr th:only-of-type {\n",
       "        vertical-align: middle;\n",
       "    }\n",
       "\n",
       "    .dataframe tbody tr th {\n",
       "        vertical-align: top;\n",
       "    }\n",
       "\n",
       "    .dataframe thead th {\n",
       "        text-align: right;\n",
       "    }\n",
       "</style>\n",
       "<table border=\"1\" class=\"dataframe\">\n",
       "  <thead>\n",
       "    <tr style=\"text-align: right;\">\n",
       "      <th></th>\n",
       "      <th>POP</th>\n",
       "      <th>Dnu</th>\n",
       "      <th>numax</th>\n",
       "      <th>epsilon</th>\n",
       "    </tr>\n",
       "  </thead>\n",
       "  <tbody>\n",
       "    <tr>\n",
       "      <th>37</th>\n",
       "      <td>0</td>\n",
       "      <td>10.34111</td>\n",
       "      <td>129.58759</td>\n",
       "      <td>0.320</td>\n",
       "    </tr>\n",
       "    <tr>\n",
       "      <th>61</th>\n",
       "      <td>0</td>\n",
       "      <td>10.34111</td>\n",
       "      <td>136.73959</td>\n",
       "      <td>0.240</td>\n",
       "    </tr>\n",
       "    <tr>\n",
       "      <th>63</th>\n",
       "      <td>0</td>\n",
       "      <td>10.34111</td>\n",
       "      <td>152.48999</td>\n",
       "      <td>0.345</td>\n",
       "    </tr>\n",
       "    <tr>\n",
       "      <th>87</th>\n",
       "      <td>0</td>\n",
       "      <td>10.34111</td>\n",
       "      <td>130.69264</td>\n",
       "      <td>0.270</td>\n",
       "    </tr>\n",
       "    <tr>\n",
       "      <th>95</th>\n",
       "      <td>0</td>\n",
       "      <td>10.34111</td>\n",
       "      <td>239.64848</td>\n",
       "      <td>0.475</td>\n",
       "    </tr>\n",
       "    <tr>\n",
       "      <th>...</th>\n",
       "      <td>...</td>\n",
       "      <td>...</td>\n",
       "      <td>...</td>\n",
       "      <td>...</td>\n",
       "    </tr>\n",
       "    <tr>\n",
       "      <th>829</th>\n",
       "      <td>0</td>\n",
       "      <td>10.34111</td>\n",
       "      <td>230.53819</td>\n",
       "      <td>0.410</td>\n",
       "    </tr>\n",
       "    <tr>\n",
       "      <th>846</th>\n",
       "      <td>0</td>\n",
       "      <td>10.34111</td>\n",
       "      <td>209.34905</td>\n",
       "      <td>0.380</td>\n",
       "    </tr>\n",
       "    <tr>\n",
       "      <th>863</th>\n",
       "      <td>0</td>\n",
       "      <td>10.34111</td>\n",
       "      <td>220.99048</td>\n",
       "      <td>0.385</td>\n",
       "    </tr>\n",
       "    <tr>\n",
       "      <th>931</th>\n",
       "      <td>0</td>\n",
       "      <td>10.34111</td>\n",
       "      <td>210.76879</td>\n",
       "      <td>0.360</td>\n",
       "    </tr>\n",
       "    <tr>\n",
       "      <th>972</th>\n",
       "      <td>0</td>\n",
       "      <td>10.34111</td>\n",
       "      <td>198.85169</td>\n",
       "      <td>0.365</td>\n",
       "    </tr>\n",
       "  </tbody>\n",
       "</table>\n",
       "<p>81 rows × 4 columns</p>\n",
       "</div>"
      ],
      "text/plain": [
       "     POP       Dnu      numax  epsilon\n",
       "37     0  10.34111  129.58759    0.320\n",
       "61     0  10.34111  136.73959    0.240\n",
       "63     0  10.34111  152.48999    0.345\n",
       "87     0  10.34111  130.69264    0.270\n",
       "95     0  10.34111  239.64848    0.475\n",
       "..   ...       ...        ...      ...\n",
       "829    0  10.34111  230.53819    0.410\n",
       "846    0  10.34111  209.34905    0.380\n",
       "863    0  10.34111  220.99048    0.385\n",
       "931    0  10.34111  210.76879    0.360\n",
       "972    0  10.34111  198.85169    0.365\n",
       "\n",
       "[81 rows x 4 columns]"
      ]
     },
     "execution_count": 18,
     "metadata": {},
     "output_type": "execute_result"
    }
   ],
   "source": [
    "# Buscamos y separamos los valores que sean menores al límite inferior y mayores que el limite superior\n",
    "# Para validar los posibles outliers que se vizualizan en la gráfica de caja anteriror\n",
    "Outliers_numax = df.query('(numax > @upper_bound) | (numax < @lower_bound)')\n",
    "# Visualización de los valores encontrados\n",
    "Outliers_numax"
   ]
  },
  {
   "cell_type": "code",
   "execution_count": 19,
   "id": "435aed26",
   "metadata": {},
   "outputs": [
    {
     "data": {
      "text/html": [
       "<div>\n",
       "<style scoped>\n",
       "    .dataframe tbody tr th:only-of-type {\n",
       "        vertical-align: middle;\n",
       "    }\n",
       "\n",
       "    .dataframe tbody tr th {\n",
       "        vertical-align: top;\n",
       "    }\n",
       "\n",
       "    .dataframe thead th {\n",
       "        text-align: right;\n",
       "    }\n",
       "</style>\n",
       "<table border=\"1\" class=\"dataframe\">\n",
       "  <thead>\n",
       "    <tr style=\"text-align: right;\">\n",
       "      <th></th>\n",
       "      <th>POP</th>\n",
       "      <th>Dnu</th>\n",
       "      <th>numax</th>\n",
       "      <th>epsilon</th>\n",
       "    </tr>\n",
       "  </thead>\n",
       "  <tbody>\n",
       "    <tr>\n",
       "      <th>count</th>\n",
       "      <td>81.000000</td>\n",
       "      <td>81.000000</td>\n",
       "      <td>81.000000</td>\n",
       "      <td>81.000000</td>\n",
       "    </tr>\n",
       "    <tr>\n",
       "      <th>mean</th>\n",
       "      <td>0.024691</td>\n",
       "      <td>10.334988</td>\n",
       "      <td>179.405143</td>\n",
       "      <td>0.333704</td>\n",
       "    </tr>\n",
       "    <tr>\n",
       "      <th>std</th>\n",
       "      <td>0.156150</td>\n",
       "      <td>0.055099</td>\n",
       "      <td>36.192447</td>\n",
       "      <td>0.062173</td>\n",
       "    </tr>\n",
       "    <tr>\n",
       "      <th>min</th>\n",
       "      <td>0.000000</td>\n",
       "      <td>9.845220</td>\n",
       "      <td>126.339890</td>\n",
       "      <td>0.165000</td>\n",
       "    </tr>\n",
       "    <tr>\n",
       "      <th>25%</th>\n",
       "      <td>0.000000</td>\n",
       "      <td>10.341110</td>\n",
       "      <td>146.047080</td>\n",
       "      <td>0.290000</td>\n",
       "    </tr>\n",
       "    <tr>\n",
       "      <th>50%</th>\n",
       "      <td>0.000000</td>\n",
       "      <td>10.341110</td>\n",
       "      <td>171.987100</td>\n",
       "      <td>0.340000</td>\n",
       "    </tr>\n",
       "    <tr>\n",
       "      <th>75%</th>\n",
       "      <td>0.000000</td>\n",
       "      <td>10.341110</td>\n",
       "      <td>214.303010</td>\n",
       "      <td>0.380000</td>\n",
       "    </tr>\n",
       "    <tr>\n",
       "      <th>max</th>\n",
       "      <td>1.000000</td>\n",
       "      <td>10.341110</td>\n",
       "      <td>239.648480</td>\n",
       "      <td>0.475000</td>\n",
       "    </tr>\n",
       "  </tbody>\n",
       "</table>\n",
       "</div>"
      ],
      "text/plain": [
       "             POP        Dnu       numax    epsilon\n",
       "count  81.000000  81.000000   81.000000  81.000000\n",
       "mean    0.024691  10.334988  179.405143   0.333704\n",
       "std     0.156150   0.055099   36.192447   0.062173\n",
       "min     0.000000   9.845220  126.339890   0.165000\n",
       "25%     0.000000  10.341110  146.047080   0.290000\n",
       "50%     0.000000  10.341110  171.987100   0.340000\n",
       "75%     0.000000  10.341110  214.303010   0.380000\n",
       "max     1.000000  10.341110  239.648480   0.475000"
      ]
     },
     "execution_count": 19,
     "metadata": {},
     "output_type": "execute_result"
    }
   ],
   "source": [
    "# Visualización de la información estadística del conjunto de datos\n",
    "Outliers_numax.describe()"
   ]
  },
  {
   "cell_type": "code",
   "execution_count": 20,
   "id": "8be47850",
   "metadata": {},
   "outputs": [],
   "source": [
    "# Reemplazamos los valores que se encuntre fuera de los rangos\n",
    "# por el límite superior o inferior según sea el caso \n",
    "df.loc[df['numax'] > upper_bound, 'numax'] = upper_bound\n",
    "df.loc[df['numax'] < lower_bound, 'numax'] = lower_bound"
   ]
  },
  {
   "cell_type": "code",
   "execution_count": 21,
   "id": "8a0bf88c",
   "metadata": {},
   "outputs": [
    {
     "name": "stdout",
     "output_type": "stream",
     "text": [
      "El límite inferior es -0.7850000000000001 y el límite superior 1.895\n"
     ]
    }
   ],
   "source": [
    "# Ejecutamos la función para definir el limite inferior y superior en la variable \"epsilon\"\n",
    "lower_bound, upper_bound = calcula_limites(df,'epsilon')"
   ]
  },
  {
   "cell_type": "code",
   "execution_count": 22,
   "id": "6d2ae35d",
   "metadata": {},
   "outputs": [
    {
     "data": {
      "text/html": [
       "<div>\n",
       "<style scoped>\n",
       "    .dataframe tbody tr th:only-of-type {\n",
       "        vertical-align: middle;\n",
       "    }\n",
       "\n",
       "    .dataframe tbody tr th {\n",
       "        vertical-align: top;\n",
       "    }\n",
       "\n",
       "    .dataframe thead th {\n",
       "        text-align: right;\n",
       "    }\n",
       "</style>\n",
       "<table border=\"1\" class=\"dataframe\">\n",
       "  <thead>\n",
       "    <tr style=\"text-align: right;\">\n",
       "      <th></th>\n",
       "      <th>POP</th>\n",
       "      <th>Dnu</th>\n",
       "      <th>numax</th>\n",
       "      <th>epsilon</th>\n",
       "    </tr>\n",
       "  </thead>\n",
       "  <tbody>\n",
       "  </tbody>\n",
       "</table>\n",
       "</div>"
      ],
      "text/plain": [
       "Empty DataFrame\n",
       "Columns: [POP, Dnu, numax, epsilon]\n",
       "Index: []"
      ]
     },
     "execution_count": 22,
     "metadata": {},
     "output_type": "execute_result"
    }
   ],
   "source": [
    "# Buscamos y separamos los valores que sean menores al límite inferior y mayores que el limite superior\n",
    "# Para validar los posibles outliers que se vizualizan en la gráfica de caja anteriror\n",
    "Outliers_epsilon = df.query('(epsilon > @upper_bound) | (epsilon < @lower_bound)')\n",
    "# Visualización de los valores encontrados\n",
    "Outliers_epsilon"
   ]
  },
  {
   "cell_type": "markdown",
   "id": "37e034c7",
   "metadata": {},
   "source": [
    "Como los habíamos indicado anteriormente en las gráficas de densidad, los valores atípicos parecían concentrarse al lado derecho, en valores mas altos de las variables \"Dnu\" y \"numax\" y al realizar la búsqueda de valores que estuviera fuera del límite inferior y superior, se localizaron 86 valores mayores al límite superior en la variable Dnu y 81 valores valores mayores al límite superior en la variable numax, todos estos valores fueron reemplazados por el valor de límite superior, cabe mencionar que se realizaron pruebas conservando dichos valores e iliminadolos, sin embargo los modelos se comportaron mejor con el procedimento aplicado.\n",
    "\n",
    "Para la variable epsilon aunque se ven reflejados algunos outliers en la gráfica de caja anterior, al buscar valores que sean menores al límite inferior o mayores al límite superior, no se localizan registros que cumplan con las condiciones definidas, por lo que no se aplico ningún proceso a dicha variable.\n",
    "\n",
    "A continuación podemos observar nuevamente las gráficas de caja de cada variable con los cambios aplicados. "
   ]
  },
  {
   "cell_type": "code",
   "execution_count": 23,
   "id": "1ec3290b",
   "metadata": {},
   "outputs": [
    {
     "data": {
      "text/plain": [
       "<Figure size 432x288 with 0 Axes>"
      ]
     },
     "metadata": {},
     "output_type": "display_data"
    },
    {
     "data": {
      "image/png": "[encoded data removed]",
      "text/plain": [
       "<Figure size 864x1728 with 3 Axes>"
      ]
     },
     "metadata": {
      "needs_background": "light"
     },
     "output_type": "display_data"
    }
   ],
   "source": [
    "# Boxplot por cada variable\n",
    "den=pd.DataFrame(df)\n",
    "plt.figure (5)\n",
    "plt.subplots(figsize=(12,24))\n",
    "green_diamond = dict(markerfacecolor='y', marker='D')\n",
    "sns.set_palette(\"Set2\")\n",
    "\n",
    "plt.subplot(421)\n",
    "sns.boxplot(x='POP', y='Dnu', data=den, flierprops=green_diamond)\n",
    "\n",
    "plt.subplot(422)\n",
    "sns.boxplot(x='POP', y='numax', data=den, flierprops=green_diamond)\n",
    "\n",
    "plt.subplot(423)\n",
    "sns.boxplot(x='POP', y='epsilon', data=den, flierprops=green_diamond)\n",
    "\n",
    "plt.show() "
   ]
  },
  {
   "cell_type": "markdown",
   "id": "b388a0d1",
   "metadata": {},
   "source": [
    "## División del conjunto de datos"
   ]
  },
  {
   "cell_type": "code",
   "execution_count": 24,
   "id": "a8c6debd",
   "metadata": {},
   "outputs": [],
   "source": [
    "# Construcción de una función que realice el particionado completo\n",
    "def train_val_test_split(df, rstate=42, shuffle=True, stratify=None):\n",
    "    strat = df[stratify] if stratify else None\n",
    "    train_set, test_set = train_test_split(\n",
    "        df, test_size=0.4, random_state=rstate, shuffle=shuffle, stratify=strat)\n",
    "    strat = test_set[stratify] if stratify else None\n",
    "    val_set, test_set = train_test_split(\n",
    "        test_set, test_size=0.5, random_state=rstate, shuffle=shuffle, stratify=strat)\n",
    "    return (train_set, val_set, test_set)"
   ]
  },
  {
   "cell_type": "code",
   "execution_count": 25,
   "id": "3e748651",
   "metadata": {},
   "outputs": [],
   "source": [
    "# Division del conjunto de datos en los diferentes subconjuntos\n",
    "train_set, val_set, test_set = train_val_test_split(df, stratify='POP')"
   ]
  },
  {
   "cell_type": "code",
   "execution_count": 26,
   "id": "0aba683a",
   "metadata": {},
   "outputs": [
    {
     "name": "stdout",
     "output_type": "stream",
     "text": [
      "Longitud del Training Set: 600\n",
      "Longitud del Validation Set: 200\n",
      "Longitud del Test Set: 201\n"
     ]
    }
   ],
   "source": [
    "# Verificamos las particiones realizadas\n",
    "print(\"Longitud del Training Set:\", len(train_set))\n",
    "print(\"Longitud del Validation Set:\", len(val_set))\n",
    "print(\"Longitud del Test Set:\", len(test_set))"
   ]
  },
  {
   "cell_type": "code",
   "execution_count": 27,
   "id": "aa9aeda8",
   "metadata": {},
   "outputs": [],
   "source": [
    "# Conjunto de datos de entrenamiento\n",
    "X_train = train_set.drop(\"POP\", axis=1)\n",
    "y_train = train_set[\"POP\"].copy()"
   ]
  },
  {
   "cell_type": "code",
   "execution_count": 28,
   "id": "f3b3c656",
   "metadata": {},
   "outputs": [],
   "source": [
    "# Conjunto de datos de pruebas\n",
    "X_val = val_set.drop(\"POP\", axis=1)\n",
    "y_val = val_set[\"POP\"].copy()"
   ]
  },
  {
   "cell_type": "code",
   "execution_count": 29,
   "id": "a121a1b4",
   "metadata": {},
   "outputs": [],
   "source": [
    "# Conjunto de datos de test\n",
    "X_test = test_set.drop(\"POP\", axis=1)\n",
    "y_test = test_set[\"POP\"].copy()"
   ]
  },
  {
   "attachments": {},
   "cell_type": "markdown",
   "id": "151fa6c7",
   "metadata": {},
   "source": [
    "## Balanceo del dataset"
   ]
  },
  {
   "cell_type": "code",
   "execution_count": 30,
   "id": "e2e02fb2",
   "metadata": {},
   "outputs": [
    {
     "data": {
      "text/plain": [
       "1    427\n",
       "0    173\n",
       "Name: POP, dtype: int64"
      ]
     },
     "execution_count": 30,
     "metadata": {},
     "output_type": "execute_result"
    }
   ],
   "source": [
    "#Validación de la cantidad de ejemplos que posee el dataset segun la variable de salida.\n",
    "train_set[\"POP\"].value_counts()"
   ]
  },
  {
   "cell_type": "code",
   "execution_count": 31,
   "id": "460fd577",
   "metadata": {},
   "outputs": [
    {
     "data": {
      "image/png": "[encoded data removed]",
      "text/plain": [
       "<Figure size 576x432 with 1 Axes>"
      ]
     },
     "metadata": {},
     "output_type": "display_data"
    }
   ],
   "source": [
    "#Creación de una gráfica para representar el porcentaje de las observaciones por clase\n",
    "Gender = train_set['POP'].value_counts()\n",
    "names = 'Combustión de helio','Rama gigante roja'\n",
    "fig5, ax = plt.subplots(figsize =(8, 6))\n",
    "_, _, autotexts = ax.pie(x=Gender, labels=names, autopct=\"%.2f%%\", radius=1.2,\n",
    "                         colors=sns.color_palette(\"Set2\"), explode=None, textprops=dict(fontsize=13))\n",
    "\n",
    "ax.set_title('Porcentaje de clases', y=1.1,  weight='bold', fontsize=14)\n",
    "\n",
    "for autotext in autotexts:\n",
    "    autotext.set_color('white')\n",
    "    autotext.set_weight('bold')"
   ]
  },
  {
   "attachments": {},
   "cell_type": "markdown",
   "id": "a00e534b",
   "metadata": {},
   "source": [
    "El conjunto de datos posee un desbalance con 427 datos de combustión de helio y 173 de ramas gigantes rojas, al entrenar los diferentes algoritmos generaria una matriz de confusión desbalanceda, por lo que se hara uso de la técnica \"SMOTEENN\" la cual combina el sobremuestreo con SMOTE y submuestreo con Edited Nearest Neighbours."
   ]
  },
  {
   "cell_type": "code",
   "execution_count": 32,
   "id": "34ef69a2",
   "metadata": {},
   "outputs": [
    {
     "name": "stdout",
     "output_type": "stream",
     "text": [
      "Rama gigante roja:  387  , Combustión de helio:  375\n"
     ]
    },
    {
     "data": {
      "text/html": [
       "<div>\n",
       "<style scoped>\n",
       "    .dataframe tbody tr th:only-of-type {\n",
       "        vertical-align: middle;\n",
       "    }\n",
       "\n",
       "    .dataframe tbody tr th {\n",
       "        vertical-align: top;\n",
       "    }\n",
       "\n",
       "    .dataframe thead th {\n",
       "        text-align: right;\n",
       "    }\n",
       "</style>\n",
       "<table border=\"1\" class=\"dataframe\">\n",
       "  <thead>\n",
       "    <tr style=\"text-align: right;\">\n",
       "      <th></th>\n",
       "      <th>Dnu</th>\n",
       "      <th>numax</th>\n",
       "      <th>epsilon</th>\n",
       "    </tr>\n",
       "  </thead>\n",
       "  <tbody>\n",
       "    <tr>\n",
       "      <th>0</th>\n",
       "      <td>10.34111</td>\n",
       "      <td>125.96555</td>\n",
       "      <td>0.410</td>\n",
       "    </tr>\n",
       "    <tr>\n",
       "      <th>1</th>\n",
       "      <td>6.92475</td>\n",
       "      <td>67.30475</td>\n",
       "      <td>0.170</td>\n",
       "    </tr>\n",
       "    <tr>\n",
       "      <th>2</th>\n",
       "      <td>8.96626</td>\n",
       "      <td>97.39633</td>\n",
       "      <td>0.215</td>\n",
       "    </tr>\n",
       "    <tr>\n",
       "      <th>3</th>\n",
       "      <td>6.37037</td>\n",
       "      <td>63.50017</td>\n",
       "      <td>0.095</td>\n",
       "    </tr>\n",
       "    <tr>\n",
       "      <th>4</th>\n",
       "      <td>10.34111</td>\n",
       "      <td>125.96555</td>\n",
       "      <td>0.425</td>\n",
       "    </tr>\n",
       "    <tr>\n",
       "      <th>...</th>\n",
       "      <td>...</td>\n",
       "      <td>...</td>\n",
       "      <td>...</td>\n",
       "    </tr>\n",
       "    <tr>\n",
       "      <th>757</th>\n",
       "      <td>3.66671</td>\n",
       "      <td>29.22274</td>\n",
       "      <td>0.880</td>\n",
       "    </tr>\n",
       "    <tr>\n",
       "      <th>758</th>\n",
       "      <td>4.21811</td>\n",
       "      <td>42.99284</td>\n",
       "      <td>0.910</td>\n",
       "    </tr>\n",
       "    <tr>\n",
       "      <th>759</th>\n",
       "      <td>3.41101</td>\n",
       "      <td>26.40331</td>\n",
       "      <td>0.785</td>\n",
       "    </tr>\n",
       "    <tr>\n",
       "      <th>760</th>\n",
       "      <td>4.31385</td>\n",
       "      <td>38.71001</td>\n",
       "      <td>0.880</td>\n",
       "    </tr>\n",
       "    <tr>\n",
       "      <th>761</th>\n",
       "      <td>4.33665</td>\n",
       "      <td>38.49047</td>\n",
       "      <td>0.865</td>\n",
       "    </tr>\n",
       "  </tbody>\n",
       "</table>\n",
       "<p>762 rows × 3 columns</p>\n",
       "</div>"
      ],
      "text/plain": [
       "          Dnu      numax  epsilon\n",
       "0    10.34111  125.96555    0.410\n",
       "1     6.92475   67.30475    0.170\n",
       "2     8.96626   97.39633    0.215\n",
       "3     6.37037   63.50017    0.095\n",
       "4    10.34111  125.96555    0.425\n",
       "..        ...        ...      ...\n",
       "757   3.66671   29.22274    0.880\n",
       "758   4.21811   42.99284    0.910\n",
       "759   3.41101   26.40331    0.785\n",
       "760   4.31385   38.71001    0.880\n",
       "761   4.33665   38.49047    0.865\n",
       "\n",
       "[762 rows x 3 columns]"
      ]
     },
     "execution_count": 32,
     "metadata": {},
     "output_type": "execute_result"
    }
   ],
   "source": [
    "# Inicialización del método combinado\n",
    "smote_enn = SMOTEENN(random_state=0)#random_state = 0\n",
    "# Sobremuestreo con Smote seguido de un submuestreo con Edited Nearest Neighbours\n",
    "X_smote_enn, y_smote_enn = smote_enn.fit_resample(X_train, y_train)\n",
    "CH_smote_enn = y_smote_enn.sum()\n",
    "RGR_smote_enn = y_smote_enn.shape[0]- CH_smote_enn\n",
    "print('Rama gigante roja: ', RGR_smote_enn, ' , Combustión de helio: ', CH_smote_enn)\n",
    "X_smote_enn"
   ]
  },
  {
   "cell_type": "markdown",
   "id": "5d29bc2d",
   "metadata": {},
   "source": [
    "## Escalado y transformación de los datos"
   ]
  },
  {
   "cell_type": "markdown",
   "id": "deecdc94",
   "metadata": {},
   "source": [
    "Cada variable tiene un rango de valores diferente, por lo que se escalara los datos utilizando el método \"RobustScaler\", el cual primero se encarga de centrar los datos, después resta la mediana de cada varaible y luego los datos son escalados dividiendo cada caraterística por el rango intercuartílico de cada variable, esto permitite que sea un método resistente a los valores atípicos.\n",
    "\n",
    "Además las variables no siguen una distribución normal por lo que se hara uso del método \"yeo-johnson\" para acercar los datos a una distribución normal, a menudo se utiliza este método para tratar problemas con datos que poseen una distribución sesgada y varianza desigual. \n",
    "\n",
    "La selección del uso de los métodos anteriores se genero después de varias pruebas con diferentes métodos de escalado y transformación, de los cuales los dos anteriores brindaron los mejores resultados. Se hara uso de un pipeline que se encargara de realizar primero el escalado y luego la tranformación de los datos."
   ]
  },
  {
   "cell_type": "code",
   "execution_count": 33,
   "id": "f66fbd7c",
   "metadata": {},
   "outputs": [],
   "source": [
    "# Pipeline que se encarga del escalado y transformación de los datos\n",
    "# Definimos las columnas que seran escaladas y transformadas\n",
    "columns = ['Dnu', 'numax', 'epsilon']\n",
    "# Se definen los procesos que deberán ser aplicados\n",
    "columns_transformers = Pipeline(\n",
    "                        steps=[\n",
    "                            ('robust', RobustScaler()),\n",
    "                            ('yeo', PowerTransformer(method='yeo-johnson'))\n",
    "                        ]\n",
    "                      )\n",
    "# Se aplican los procesos a las columnas seleccionadas\n",
    "preprocessor = ColumnTransformer(\n",
    "                    transformers=[\n",
    "                        ('numeric', columns_transformers, columns)\n",
    "                    ],\n",
    "                    remainder='passthrough',\n",
    "                    verbose_feature_names_out = False\n",
    "               )\n",
    "# Se ajusta y transforma el conjunto de datos de entrenamiento\n",
    "X_train_transformed = preprocessor.fit_transform(X_smote_enn)\n",
    "# Se aplican las mismas transformaciones al conjunto de datos de pruebas y validación\n",
    "X_val_transformed = preprocessor.transform(X_val)\n",
    "X_test_transformed = preprocessor.transform(X_test)"
   ]
  },
  {
   "cell_type": "code",
   "execution_count": 34,
   "id": "15f25411",
   "metadata": {},
   "outputs": [
    {
     "data": {
      "text/html": [
       "<style>#sk-container-id-1 {color: black;background-color: white;}#sk-container-id-1 pre{padding: 0;}#sk-container-id-1 div.sk-toggleable {background-color: white;}#sk-container-id-1 label.sk-toggleable__label {cursor: pointer;display: block;width: 100%;margin-bottom: 0;padding: 0.3em;box-sizing: border-box;text-align: center;}#sk-container-id-1 label.sk-toggleable__label-arrow:before {content: \"▸\";float: left;margin-right: 0.25em;color: #696969;}#sk-container-id-1 label.sk-toggleable__label-arrow:hover:before {color: black;}#sk-container-id-1 div.sk-estimator:hover label.sk-toggleable__label-arrow:before {color: black;}#sk-container-id-1 div.sk-toggleable__content {max-height: 0;max-width: 0;overflow: hidden;text-align: left;background-color: #f0f8ff;}#sk-container-id-1 div.sk-toggleable__content pre {margin: 0.2em;color: black;border-radius: 0.25em;background-color: #f0f8ff;}#sk-container-id-1 input.sk-toggleable__control:checked~div.sk-toggleable__content {max-height: 200px;max-width: 100%;overflow: auto;}#sk-container-id-1 input.sk-toggleable__control:checked~label.sk-toggleable__label-arrow:before {content: \"▾\";}#sk-container-id-1 div.sk-estimator input.sk-toggleable__control:checked~label.sk-toggleable__label {background-color: #d4ebff;}#sk-container-id-1 div.sk-label input.sk-toggleable__control:checked~label.sk-toggleable__label {background-color: #d4ebff;}#sk-container-id-1 input.sk-hidden--visually {border: 0;clip: rect(1px 1px 1px 1px);clip: rect(1px, 1px, 1px, 1px);height: 1px;margin: -1px;overflow: hidden;padding: 0;position: absolute;width: 1px;}#sk-container-id-1 div.sk-estimator {font-family: monospace;background-color: #f0f8ff;border: 1px dotted black;border-radius: 0.25em;box-sizing: border-box;margin-bottom: 0.5em;}#sk-container-id-1 div.sk-estimator:hover {background-color: #d4ebff;}#sk-container-id-1 div.sk-parallel-item::after {content: \"\";width: 100%;border-bottom: 1px solid gray;flex-grow: 1;}#sk-container-id-1 div.sk-label:hover label.sk-toggleable__label {background-color: #d4ebff;}#sk-container-id-1 div.sk-serial::before {content: \"\";position: absolute;border-left: 1px solid gray;box-sizing: border-box;top: 0;bottom: 0;left: 50%;z-index: 0;}#sk-container-id-1 div.sk-serial {display: flex;flex-direction: column;align-items: center;background-color: white;padding-right: 0.2em;padding-left: 0.2em;position: relative;}#sk-container-id-1 div.sk-item {position: relative;z-index: 1;}#sk-container-id-1 div.sk-parallel {display: flex;align-items: stretch;justify-content: center;background-color: white;position: relative;}#sk-container-id-1 div.sk-item::before, #sk-container-id-1 div.sk-parallel-item::before {content: \"\";position: absolute;border-left: 1px solid gray;box-sizing: border-box;top: 0;bottom: 0;left: 50%;z-index: -1;}#sk-container-id-1 div.sk-parallel-item {display: flex;flex-direction: column;z-index: 1;position: relative;background-color: white;}#sk-container-id-1 div.sk-parallel-item:first-child::after {align-self: flex-end;width: 50%;}#sk-container-id-1 div.sk-parallel-item:last-child::after {align-self: flex-start;width: 50%;}#sk-container-id-1 div.sk-parallel-item:only-child::after {width: 0;}#sk-container-id-1 div.sk-dashed-wrapped {border: 1px dashed gray;margin: 0 0.4em 0.5em 0.4em;box-sizing: border-box;padding-bottom: 0.4em;background-color: white;}#sk-container-id-1 div.sk-label label {font-family: monospace;font-weight: bold;display: inline-block;line-height: 1.2em;}#sk-container-id-1 div.sk-label-container {text-align: center;}#sk-container-id-1 div.sk-container {/* jupyter's `normalize.less` sets `[hidden] { display: none; }` but bootstrap.min.css set `[hidden] { display: none !important; }` so we also need the `!important` here to be able to override the default hidden behavior on the sphinx rendered scikit-learn.org. See: https://github.com/scikit-learn/scikit-learn/issues/21755 */display: inline-block !important;position: relative;}#sk-container-id-1 div.sk-text-repr-fallback {display: none;}</style><div id=\"sk-container-id-1\" class=\"sk-top-container\"><div class=\"sk-text-repr-fallback\"><pre>ColumnTransformer(remainder=&#x27;passthrough&#x27;,\n",
       "                  transformers=[(&#x27;numeric&#x27;,\n",
       "                                 Pipeline(steps=[(&#x27;robust&#x27;, RobustScaler()),\n",
       "                                                 (&#x27;yeo&#x27;, PowerTransformer())]),\n",
       "                                 [&#x27;Dnu&#x27;, &#x27;numax&#x27;, &#x27;epsilon&#x27;])],\n",
       "                  verbose_feature_names_out=False)</pre><b>In a Jupyter environment, please rerun this cell to show the HTML representation or trust the notebook. <br />On GitHub, the HTML representation is unable to render, please try loading this page with nbviewer.org.</b></div><div class=\"sk-container\" hidden><div class=\"sk-item sk-dashed-wrapped\"><div class=\"sk-label-container\"><div class=\"sk-label sk-toggleable\"><input class=\"sk-toggleable__control sk-hidden--visually\" id=\"sk-estimator-id-1\" type=\"checkbox\" ><label for=\"sk-estimator-id-1\" class=\"sk-toggleable__label sk-toggleable__label-arrow\">ColumnTransformer</label><div class=\"sk-toggleable__content\"><pre>ColumnTransformer(remainder=&#x27;passthrough&#x27;,\n",
       "                  transformers=[(&#x27;numeric&#x27;,\n",
       "                                 Pipeline(steps=[(&#x27;robust&#x27;, RobustScaler()),\n",
       "                                                 (&#x27;yeo&#x27;, PowerTransformer())]),\n",
       "                                 [&#x27;Dnu&#x27;, &#x27;numax&#x27;, &#x27;epsilon&#x27;])],\n",
       "                  verbose_feature_names_out=False)</pre></div></div></div><div class=\"sk-parallel\"><div class=\"sk-parallel-item\"><div class=\"sk-item\"><div class=\"sk-label-container\"><div class=\"sk-label sk-toggleable\"><input class=\"sk-toggleable__control sk-hidden--visually\" id=\"sk-estimator-id-2\" type=\"checkbox\" ><label for=\"sk-estimator-id-2\" class=\"sk-toggleable__label sk-toggleable__label-arrow\">numeric</label><div class=\"sk-toggleable__content\"><pre>[&#x27;Dnu&#x27;, &#x27;numax&#x27;, &#x27;epsilon&#x27;]</pre></div></div></div><div class=\"sk-serial\"><div class=\"sk-item\"><div class=\"sk-serial\"><div class=\"sk-item\"><div class=\"sk-estimator sk-toggleable\"><input class=\"sk-toggleable__control sk-hidden--visually\" id=\"sk-estimator-id-3\" type=\"checkbox\" ><label for=\"sk-estimator-id-3\" class=\"sk-toggleable__label sk-toggleable__label-arrow\">RobustScaler</label><div class=\"sk-toggleable__content\"><pre>RobustScaler()</pre></div></div></div><div class=\"sk-item\"><div class=\"sk-estimator sk-toggleable\"><input class=\"sk-toggleable__control sk-hidden--visually\" id=\"sk-estimator-id-4\" type=\"checkbox\" ><label for=\"sk-estimator-id-4\" class=\"sk-toggleable__label sk-toggleable__label-arrow\">PowerTransformer</label><div class=\"sk-toggleable__content\"><pre>PowerTransformer()</pre></div></div></div></div></div></div></div></div><div class=\"sk-parallel-item\"><div class=\"sk-item\"><div class=\"sk-label-container\"><div class=\"sk-label sk-toggleable\"><input class=\"sk-toggleable__control sk-hidden--visually\" id=\"sk-estimator-id-5\" type=\"checkbox\" ><label for=\"sk-estimator-id-5\" class=\"sk-toggleable__label sk-toggleable__label-arrow\">remainder</label><div class=\"sk-toggleable__content\"><pre>[]</pre></div></div></div><div class=\"sk-serial\"><div class=\"sk-item\"><div class=\"sk-estimator sk-toggleable\"><input class=\"sk-toggleable__control sk-hidden--visually\" id=\"sk-estimator-id-6\" type=\"checkbox\" ><label for=\"sk-estimator-id-6\" class=\"sk-toggleable__label sk-toggleable__label-arrow\">passthrough</label><div class=\"sk-toggleable__content\"><pre>passthrough</pre></div></div></div></div></div></div></div></div></div></div>"
      ],
      "text/plain": [
       "ColumnTransformer(remainder='passthrough',\n",
       "                  transformers=[('numeric',\n",
       "                                 Pipeline(steps=[('robust', RobustScaler()),\n",
       "                                                 ('yeo', PowerTransformer())]),\n",
       "                                 ['Dnu', 'numax', 'epsilon'])],\n",
       "                  verbose_feature_names_out=False)"
      ]
     },
     "execution_count": 34,
     "metadata": {},
     "output_type": "execute_result"
    }
   ],
   "source": [
    "# Visualmente nuestro pipepline luce así:\n",
    "set_config(display='diagram')\n",
    "preprocessor"
   ]
  },
  {
   "cell_type": "code",
   "execution_count": 35,
   "id": "76bb626a",
   "metadata": {},
   "outputs": [],
   "source": [
    "# Obtenemos los nombres de las columnas después del tranformación \n",
    "transformed_feature_names = list(preprocessor.get_feature_names_out(input_features=X_smote_enn.columns))\n",
    "# Convertimos la matriz transformada en un DataFrame\n",
    "X_train_transformed_df = pd.DataFrame(X_train_transformed, columns=transformed_feature_names)"
   ]
  },
  {
   "cell_type": "code",
   "execution_count": 36,
   "id": "4bf99f39",
   "metadata": {},
   "outputs": [
    {
     "data": {
      "text/html": [
       "<div>\n",
       "<style scoped>\n",
       "    .dataframe tbody tr th:only-of-type {\n",
       "        vertical-align: middle;\n",
       "    }\n",
       "\n",
       "    .dataframe tbody tr th {\n",
       "        vertical-align: top;\n",
       "    }\n",
       "\n",
       "    .dataframe thead th {\n",
       "        text-align: right;\n",
       "    }\n",
       "</style>\n",
       "<table border=\"1\" class=\"dataframe\">\n",
       "  <thead>\n",
       "    <tr style=\"text-align: right;\">\n",
       "      <th></th>\n",
       "      <th>Dnu</th>\n",
       "      <th>numax</th>\n",
       "      <th>epsilon</th>\n",
       "      <th>POP</th>\n",
       "    </tr>\n",
       "  </thead>\n",
       "  <tbody>\n",
       "    <tr>\n",
       "      <th>0</th>\n",
       "      <td>1.364513</td>\n",
       "      <td>1.404881</td>\n",
       "      <td>-0.223653</td>\n",
       "      <td>0</td>\n",
       "    </tr>\n",
       "    <tr>\n",
       "      <th>1</th>\n",
       "      <td>0.461745</td>\n",
       "      <td>0.296570</td>\n",
       "      <td>-1.091626</td>\n",
       "      <td>0</td>\n",
       "    </tr>\n",
       "    <tr>\n",
       "      <th>2</th>\n",
       "      <td>1.060814</td>\n",
       "      <td>0.964770</td>\n",
       "      <td>-0.916383</td>\n",
       "      <td>0</td>\n",
       "    </tr>\n",
       "    <tr>\n",
       "      <th>3</th>\n",
       "      <td>0.253037</td>\n",
       "      <td>0.188019</td>\n",
       "      <td>-1.395864</td>\n",
       "      <td>0</td>\n",
       "    </tr>\n",
       "    <tr>\n",
       "      <th>4</th>\n",
       "      <td>1.364513</td>\n",
       "      <td>1.404881</td>\n",
       "      <td>-0.174981</td>\n",
       "      <td>0</td>\n",
       "    </tr>\n",
       "    <tr>\n",
       "      <th>...</th>\n",
       "      <td>...</td>\n",
       "      <td>...</td>\n",
       "      <td>...</td>\n",
       "      <td>...</td>\n",
       "    </tr>\n",
       "    <tr>\n",
       "      <th>757</th>\n",
       "      <td>-1.284210</td>\n",
       "      <td>-1.217248</td>\n",
       "      <td>1.078370</td>\n",
       "      <td>1</td>\n",
       "    </tr>\n",
       "    <tr>\n",
       "      <th>758</th>\n",
       "      <td>-0.887571</td>\n",
       "      <td>-0.550179</td>\n",
       "      <td>1.149668</td>\n",
       "      <td>1</td>\n",
       "    </tr>\n",
       "    <tr>\n",
       "      <th>759</th>\n",
       "      <td>-1.483567</td>\n",
       "      <td>-1.371816</td>\n",
       "      <td>0.845050</td>\n",
       "      <td>1</td>\n",
       "    </tr>\n",
       "    <tr>\n",
       "      <th>760</th>\n",
       "      <td>-0.823266</td>\n",
       "      <td>-0.742259</td>\n",
       "      <td>1.078370</td>\n",
       "      <td>1</td>\n",
       "    </tr>\n",
       "    <tr>\n",
       "      <th>761</th>\n",
       "      <td>-0.808149</td>\n",
       "      <td>-0.752476</td>\n",
       "      <td>1.042308</td>\n",
       "      <td>1</td>\n",
       "    </tr>\n",
       "  </tbody>\n",
       "</table>\n",
       "<p>762 rows × 4 columns</p>\n",
       "</div>"
      ],
      "text/plain": [
       "          Dnu     numax   epsilon  POP\n",
       "0    1.364513  1.404881 -0.223653    0\n",
       "1    0.461745  0.296570 -1.091626    0\n",
       "2    1.060814  0.964770 -0.916383    0\n",
       "3    0.253037  0.188019 -1.395864    0\n",
       "4    1.364513  1.404881 -0.174981    0\n",
       "..        ...       ...       ...  ...\n",
       "757 -1.284210 -1.217248  1.078370    1\n",
       "758 -0.887571 -0.550179  1.149668    1\n",
       "759 -1.483567 -1.371816  0.845050    1\n",
       "760 -0.823266 -0.742259  1.078370    1\n",
       "761 -0.808149 -0.752476  1.042308    1\n",
       "\n",
       "[762 rows x 4 columns]"
      ]
     },
     "execution_count": 36,
     "metadata": {},
     "output_type": "execute_result"
    }
   ],
   "source": [
    "# Unimos nuevamente la variable de salida al dataset \n",
    "# Para poder validar correlaciones después de las tranformaciones aplicadas\n",
    "data_clean= pd.concat([X_train_transformed_df, y_smote_enn], axis=1,sort=True)\n",
    "# Visualizamos los cambios aplicados\n",
    "data_clean"
   ]
  },
  {
   "cell_type": "code",
   "execution_count": 37,
   "id": "9cc4dae7",
   "metadata": {},
   "outputs": [
    {
     "name": "stdout",
     "output_type": "stream",
     "text": [
      "              Dnu     numax   epsilon       POP\n",
      "Dnu      1.000000  0.995040 -0.745249 -0.936019\n",
      "numax    0.995040  1.000000 -0.728142 -0.925137\n",
      "epsilon -0.745249 -0.728142  1.000000  0.870659\n",
      "POP     -0.936019 -0.925137  0.870659  1.000000\n"
     ]
    }
   ],
   "source": [
    "# Calculamos la matriz de correlación\n",
    "correlation_matrix = data_clean.corr()\n",
    "# Visualizamos la matriz de correlación \n",
    "print(correlation_matrix)"
   ]
  },
  {
   "cell_type": "code",
   "execution_count": 38,
   "id": "04b325c0",
   "metadata": {},
   "outputs": [
    {
     "data": {
      "image/png": "[encoded data removed]",
      "text/plain": [
       "<Figure size 1080x504 with 2 Axes>"
      ]
     },
     "metadata": {
      "needs_background": "light"
     },
     "output_type": "display_data"
    }
   ],
   "source": [
    "# Validación de correlaciones\n",
    "correlation = data_clean.corr(method='spearman')\n",
    "fig1 = plt.figure(figsize=(15,7))\n",
    "ax = fig1.add_subplot(111)\n",
    "sns.heatmap(correlation, cmap=\"YlGnBu\", annot=True)\n",
    "plt.show()"
   ]
  },
  {
   "attachments": {},
   "cell_type": "markdown",
   "id": "c6c6df7b",
   "metadata": {},
   "source": [
    "## Selección del mejor modelo"
   ]
  },
  {
   "cell_type": "code",
   "execution_count": 39,
   "id": "a59185a1",
   "metadata": {},
   "outputs": [
    {
     "name": "stdout",
     "output_type": "stream",
     "text": [
      "Logistic Regreesion: 99.88% (0.23%)\n",
      "SVM: 99.88% (0.23%)\n",
      "KNeighbors: 99.88% (0.23%)\n",
      "GaussianNB: 100.00% (0.00%)\n",
      "BernoulliNB: 97.72% (1.11%)\n",
      "Decision Tree: 100.00% (0.00%)\n",
      "Random Forest: 99.86% (0.29%)\n",
      "Ada Boost: 99.88% (0.23%)\n"
     ]
    }
   ],
   "source": [
    "from sklearn.metrics import make_scorer, f1_score\n",
    "# Pruebas con diferentes modelos \n",
    "models = []\n",
    "models.append(['Logistic Regreesion', LogisticRegression()])\n",
    "models.append(['SVM', SVC()])\n",
    "models.append(['KNeighbors', KNeighborsClassifier()])\n",
    "models.append(['GaussianNB', GaussianNB()])\n",
    "models.append(['BernoulliNB', BernoulliNB()])\n",
    "models.append(['Decision Tree', DecisionTreeClassifier()])\n",
    "models.append(['Random Forest', RandomForestClassifier()])\n",
    "models.append(['Ada Boost', AdaBoostClassifier()])\n",
    "\n",
    "# Entrenamiento de los diferentes modelos\n",
    "results = []\n",
    "names = []\n",
    "for name, model in models:\n",
    "    kFold = KFold(n_splits=5, random_state=3, shuffle=True)\n",
    "    cv_results = cross_val_score(model, X_train_transformed, y_smote_enn, cv=kFold, scoring='f1')\n",
    "    results.append(cv_results)\n",
    "    names.append(name)\n",
    "    # Evaluación de los diferentes modelos\n",
    "    print(f\"{name}: {cv_results.mean()*100.0:,.2f}% ({cv_results.std()*100.0:,.2f}%)\")"
   ]
  },
  {
   "cell_type": "code",
   "execution_count": 40,
   "id": "ace836bd",
   "metadata": {},
   "outputs": [
    {
     "data": {
      "image/png": "[encoded data removed]",
      "text/plain": [
       "<Figure size 864x432 with 1 Axes>"
      ]
     },
     "metadata": {
      "needs_background": "light"
     },
     "output_type": "display_data"
    }
   ],
   "source": [
    "# Gráfica de caja para verificar el rendimiento de los diferentes modelos probados \n",
    "fig14 = plt.figure(figsize =(12,6))\n",
    "fig14.suptitle('Comparación de los algoritmos')\n",
    "ax = fig14.add_subplot(111)\n",
    "plt.boxplot(results)\n",
    "ax.set_xticklabels(names)\n",
    "plt.show()"
   ]
  },
  {
   "attachments": {},
   "cell_type": "markdown",
   "id": "8e5e8ef9",
   "metadata": {},
   "source": [
    "## Evaluación del mejor modelo"
   ]
  },
  {
   "cell_type": "code",
   "execution_count": 41,
   "id": "bc97d487",
   "metadata": {},
   "outputs": [
    {
     "data": {
      "text/plain": [
       "0.94"
      ]
     },
     "execution_count": 41,
     "metadata": {},
     "output_type": "execute_result"
    }
   ],
   "source": [
    "# Entrenamiento y prueba con el mejor modelo \n",
    "# Inicializamos el modelo \n",
    "mejor_modelo = DecisionTreeClassifier()\n",
    "# Le pasamos los datos de entrenamiento \n",
    "mejor_modelo.fit(X_train_transformed, y_smote_enn)\n",
    "\n",
    "# Realizamos una nueva predición con los datos de prueba\n",
    "y_pred = mejor_modelo.predict(X_val_transformed)\n",
    "\n",
    "# Evaluamos el rendimiento del modelo con los datos de prueba \n",
    "accuracy_score(y_val, y_pred)"
   ]
  },
  {
   "cell_type": "code",
   "execution_count": 42,
   "id": "9ebdad4d",
   "metadata": {},
   "outputs": [
    {
     "data": {
      "text/plain": [
       "<sklearn.metrics._plot.confusion_matrix.ConfusionMatrixDisplay at 0x276a3a8de10>"
      ]
     },
     "execution_count": 42,
     "metadata": {},
     "output_type": "execute_result"
    },
    {
     "data": {
      "image/png": "[encoded data removed]",
      "text/plain": [
       "<Figure size 432x288 with 2 Axes>"
      ]
     },
     "metadata": {
      "needs_background": "light"
     },
     "output_type": "display_data"
    }
   ],
   "source": [
    "# Resultados de la matriz de confusión con los datos de prueba \n",
    "plot_confusion_matrix(mejor_modelo, X_val_transformed, y_val, values_format='3g')"
   ]
  },
  {
   "cell_type": "code",
   "execution_count": 43,
   "id": "da56fb1c",
   "metadata": {},
   "outputs": [
    {
     "name": "stdout",
     "output_type": "stream",
     "text": [
      "              precision    recall  f1-score   support\n",
      "\n",
      "           0       0.84      0.98      0.90        57\n",
      "           1       0.99      0.92      0.96       143\n",
      "\n",
      "    accuracy                           0.94       200\n",
      "   macro avg       0.91      0.95      0.93       200\n",
      "weighted avg       0.95      0.94      0.94       200\n",
      "\n"
     ]
    }
   ],
   "source": [
    "# Reporte de los resultados que se obtuvieron con los datos de prueba \n",
    "print(classification_report(y_val, y_pred))"
   ]
  },
  {
   "cell_type": "markdown",
   "id": "488d4f54",
   "metadata": {},
   "source": [
    "En el reporte de clasificación anterior podemos ver un buen rendimiento del modelo para ambas clases en el conjunto de datos de pruebas, además de poder observar que en ambos casos los porcentanjes de rendimiento son admisibles, asumiendo que la clase que deseamos que el modelo identifique lo mejor posible es la clase 1 que corresponde a combustiones de helio, responderemos las siguientes preguntas interpretando los resultados del funcionamiento del modelo:\n",
    "\n",
    "- ¿Qué porcentaje de los casos predichos por el modelo como combustión de helio sera certeros? Cuando el modelo indique que los datos corresponde a una combustión de helio acertará el 99% de las veces.\n",
    "\n",
    "- ¿Qué porcentaje de los casos que corresponden a una combustión de helio el modelo es capaz de identificar? El modelo es eficaz identificando el 92% de los casos que corresponde a una combustión de helio."
   ]
  },
  {
   "cell_type": "code",
   "execution_count": 44,
   "id": "b412f45b",
   "metadata": {},
   "outputs": [
    {
     "data": {
      "image/png": "[encoded data removed]",
      "text/plain": [
       "<Figure size 432x288 with 1 Axes>"
      ]
     },
     "metadata": {
      "needs_background": "light"
     },
     "output_type": "display_data"
    }
   ],
   "source": [
    "# Curva ROC para los datos de prueba\n",
    "RocCurveDisplay.from_predictions(y_val, y_pred, name=\"Decision Tree\")\n",
    "plt.show()"
   ]
  },
  {
   "cell_type": "code",
   "execution_count": 45,
   "id": "9390fb96",
   "metadata": {},
   "outputs": [
    {
     "data": {
      "text/plain": [
       "<sklearn.metrics._plot.precision_recall_curve.PrecisionRecallDisplay at 0x276a41b14b0>"
      ]
     },
     "execution_count": 45,
     "metadata": {},
     "output_type": "execute_result"
    },
    {
     "data": {
      "image/png": "[encoded data removed]",
      "text/plain": [
       "<Figure size 432x288 with 1 Axes>"
      ]
     },
     "metadata": {
      "needs_background": "light"
     },
     "output_type": "display_data"
    }
   ],
   "source": [
    "# Curva PR para los datos de prueba\n",
    "PrecisionRecallDisplay.from_estimator(mejor_modelo, X_val_transformed, y_val, name=\"Decision Tree\")"
   ]
  },
  {
   "cell_type": "code",
   "execution_count": 46,
   "id": "e08f08a1",
   "metadata": {},
   "outputs": [
    {
     "data": {
      "text/plain": [
       "0.9402985074626866"
      ]
     },
     "execution_count": 46,
     "metadata": {},
     "output_type": "execute_result"
    }
   ],
   "source": [
    "# Realizamos una nueva predición con los datos de test\n",
    "y_pred2 = mejor_modelo.predict(X_test_transformed)\n",
    "\n",
    "# Evaluamos el rendimiento del modelo con los datos de test\n",
    "accuracy_score(y_test, y_pred2)"
   ]
  },
  {
   "cell_type": "code",
   "execution_count": 47,
   "id": "78f6442b",
   "metadata": {},
   "outputs": [
    {
     "data": {
      "text/plain": [
       "<sklearn.metrics._plot.confusion_matrix.ConfusionMatrixDisplay at 0x276a26d8280>"
      ]
     },
     "execution_count": 47,
     "metadata": {},
     "output_type": "execute_result"
    },
    {
     "data": {
      "image/png": "[encoded data removed]",
      "text/plain": [
       "<Figure size 432x288 with 2 Axes>"
      ]
     },
     "metadata": {
      "needs_background": "light"
     },
     "output_type": "display_data"
    }
   ],
   "source": [
    "# Resultados de la matriz de confusión con los datos de test\n",
    "plot_confusion_matrix(mejor_modelo, X_test_transformed, y_test, values_format='3g')"
   ]
  },
  {
   "cell_type": "code",
   "execution_count": 48,
   "id": "9e524327",
   "metadata": {},
   "outputs": [
    {
     "name": "stdout",
     "output_type": "stream",
     "text": [
      "              precision    recall  f1-score   support\n",
      "\n",
      "           0       0.86      0.95      0.90        58\n",
      "           1       0.98      0.94      0.96       143\n",
      "\n",
      "    accuracy                           0.94       201\n",
      "   macro avg       0.92      0.94      0.93       201\n",
      "weighted avg       0.94      0.94      0.94       201\n",
      "\n"
     ]
    }
   ],
   "source": [
    "# Reporte de los resultados que se obtuvieron con los datos de test\n",
    "print(classification_report(y_test, y_pred2))"
   ]
  },
  {
   "cell_type": "markdown",
   "id": "53c7ede1",
   "metadata": {},
   "source": [
    "Con el conjunto de datos de validación en el reporte de clasificación se puede observar nuevamente un buen rendimiento del modelo para ambas clases, además de poder observar que en ambos casos los porcentanjes siguen teniendo un rendimiento aceptable, respondiendo a las mismas preguntas plateadas anteriormente sobre el rendimiento del modelo podemos decir que la interpretacion de los resultados es la siguiente:\n",
    "\n",
    "- ¿Qué porcentaje de los casos predichos por el modelo como combustión de helio serán certeros? Cuando el modelo indique que los datos corresponde a una combustión de helio acertará el 98% de las veces.\n",
    "\n",
    "- ¿Qué porcentaje de los casos que corresponden a una combustión de helio el modelo es capaz de identificar? El modelo es eficaz identificando el 94% de los casos que corresponde a una combustión de helio."
   ]
  },
  {
   "cell_type": "code",
   "execution_count": 49,
   "id": "0fe3828e",
   "metadata": {},
   "outputs": [
    {
     "data": {
      "image/png": "[encoded data removed]",
      "text/plain": [
       "<Figure size 432x288 with 1 Axes>"
      ]
     },
     "metadata": {
      "needs_background": "light"
     },
     "output_type": "display_data"
    }
   ],
   "source": [
    "# Curva ROC para los datos de test\n",
    "RocCurveDisplay.from_predictions(y_test, y_pred2, name=\"Decision Tree\")\n",
    "plt.show()"
   ]
  },
  {
   "cell_type": "code",
   "execution_count": 50,
   "id": "0a219882",
   "metadata": {},
   "outputs": [
    {
     "data": {
      "text/plain": [
       "<sklearn.metrics._plot.precision_recall_curve.PrecisionRecallDisplay at 0x276a42b3130>"
      ]
     },
     "execution_count": 50,
     "metadata": {},
     "output_type": "execute_result"
    },
    {
     "data": {
      "image/png": "[encoded data removed]",
      "text/plain": [
       "<Figure size 432x288 with 1 Axes>"
      ]
     },
     "metadata": {
      "needs_background": "light"
     },
     "output_type": "display_data"
    }
   ],
   "source": [
    "# Curva PR para los datos de test\n",
    "PrecisionRecallDisplay.from_estimator(mejor_modelo, X_test_transformed, y_test, name=\"Decision Tree\")"
   ]
  }
 ],
 "metadata": {
  "kernelspec": {
   "display_name": "Python 3",
   "language": "python",
   "name": "python3"
  },
  "language_info": {
   "codemirror_mode": {
    "name": "ipython",
    "version": 3
   },
   "file_extension": ".py",
   "mimetype": "text/x-python",
   "name": "python",
   "nbconvert_exporter": "python",
   "pygments_lexer": "ipython3",
   "version": "3.10.4"
  }
 },
 "nbformat": 4,
 "nbformat_minor": 5
}
